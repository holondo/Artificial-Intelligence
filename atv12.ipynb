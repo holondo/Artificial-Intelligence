{
  "nbformat": 4,
  "nbformat_minor": 0,
  "metadata": {
    "colab": {
      "name": "Copy of Atv12 SCC0230 IA.ipynb",
      "provenance": [],
      "collapsed_sections": [
        "s9Sp2Q2YlKVx"
      ]
    },
    "kernelspec": {
      "name": "python3",
      "display_name": "Python 3"
    }
  },
  "cells": [
    {
      "cell_type": "markdown",
      "metadata": {
        "id": "e-w_RTnOs-Ia"
      },
      "source": [
        "# Identificação\n",
        "\n",
        "Nome: Guilherme Holanda Sanches  \n",
        "NUSP:10734370\n"
      ]
    },
    {
      "cell_type": "markdown",
      "metadata": {
        "id": "yOTcckGzAUCM"
      },
      "source": [
        "## Etapa 1: Importação das bibliotecas"
      ]
    },
    {
      "cell_type": "code",
      "metadata": {
        "id": "Nxc_8vJX7WL4"
      },
      "source": [
        "import pandas as pd\n",
        "import numpy as np\n",
        "import matplotlib.pylab as plt\n",
        "\n",
        "from sklearn.ensemble import RandomForestRegressor\n",
        "#Importe aqui os modelos não paramétricos\n"
      ],
      "execution_count": null,
      "outputs": []
    },
    {
      "cell_type": "markdown",
      "metadata": {
        "id": "B44i27fMAa5m"
      },
      "source": [
        "## Etapa 2: Carregamento da base de dados"
      ]
    },
    {
      "cell_type": "code",
      "metadata": {
        "colab": {
          "base_uri": "https://localhost:8080/",
          "height": 237
        },
        "id": "D-UB_PQyDT6P",
        "outputId": "e9780340-12c9-42d5-d6c7-23e882ead3ed"
      },
      "source": [
        "df = pd.read_csv('./sample_data/petro.csv', delimiter=',', parse_dates=True, infer_datetime_format=True, index_col='Date', )\n",
        "\n",
        "df.head()"
      ],
      "execution_count": null,
      "outputs": [
        {
          "output_type": "execute_result",
          "data": {
            "text/html": [
              "<div>\n",
              "<style scoped>\n",
              "    .dataframe tbody tr th:only-of-type {\n",
              "        vertical-align: middle;\n",
              "    }\n",
              "\n",
              "    .dataframe tbody tr th {\n",
              "        vertical-align: top;\n",
              "    }\n",
              "\n",
              "    .dataframe thead th {\n",
              "        text-align: right;\n",
              "    }\n",
              "</style>\n",
              "<table border=\"1\" class=\"dataframe\">\n",
              "  <thead>\n",
              "    <tr style=\"text-align: right;\">\n",
              "      <th></th>\n",
              "      <th>Open</th>\n",
              "      <th>High</th>\n",
              "      <th>Low</th>\n",
              "      <th>Close</th>\n",
              "      <th>Adj Close</th>\n",
              "      <th>Volume</th>\n",
              "    </tr>\n",
              "    <tr>\n",
              "      <th>Date</th>\n",
              "      <th></th>\n",
              "      <th></th>\n",
              "      <th></th>\n",
              "      <th></th>\n",
              "      <th></th>\n",
              "      <th></th>\n",
              "    </tr>\n",
              "  </thead>\n",
              "  <tbody>\n",
              "    <tr>\n",
              "      <th>2011-01-03</th>\n",
              "      <td>27.500000</td>\n",
              "      <td>27.580000</td>\n",
              "      <td>26.91</td>\n",
              "      <td>27.000000</td>\n",
              "      <td>19.787769</td>\n",
              "      <td>22738500.0</td>\n",
              "    </tr>\n",
              "    <tr>\n",
              "      <th>2011-01-04</th>\n",
              "      <td>27.010000</td>\n",
              "      <td>27.059999</td>\n",
              "      <td>26.40</td>\n",
              "      <td>26.900000</td>\n",
              "      <td>19.714476</td>\n",
              "      <td>30936600.0</td>\n",
              "    </tr>\n",
              "    <tr>\n",
              "      <th>2011-01-05</th>\n",
              "      <td>26.680000</td>\n",
              "      <td>27.350000</td>\n",
              "      <td>26.58</td>\n",
              "      <td>27.219999</td>\n",
              "      <td>19.949003</td>\n",
              "      <td>24306800.0</td>\n",
              "    </tr>\n",
              "    <tr>\n",
              "      <th>2011-01-06</th>\n",
              "      <td>27.200001</td>\n",
              "      <td>27.459999</td>\n",
              "      <td>27.01</td>\n",
              "      <td>27.110001</td>\n",
              "      <td>19.868389</td>\n",
              "      <td>24328800.0</td>\n",
              "    </tr>\n",
              "    <tr>\n",
              "      <th>2011-01-07</th>\n",
              "      <td>27.020000</td>\n",
              "      <td>27.180000</td>\n",
              "      <td>26.73</td>\n",
              "      <td>26.730000</td>\n",
              "      <td>19.589888</td>\n",
              "      <td>17453800.0</td>\n",
              "    </tr>\n",
              "  </tbody>\n",
              "</table>\n",
              "</div>"
            ],
            "text/plain": [
              "                 Open       High    Low      Close  Adj Close      Volume\n",
              "Date                                                                     \n",
              "2011-01-03  27.500000  27.580000  26.91  27.000000  19.787769  22738500.0\n",
              "2011-01-04  27.010000  27.059999  26.40  26.900000  19.714476  30936600.0\n",
              "2011-01-05  26.680000  27.350000  26.58  27.219999  19.949003  24306800.0\n",
              "2011-01-06  27.200001  27.459999  27.01  27.110001  19.868389  24328800.0\n",
              "2011-01-07  27.020000  27.180000  26.73  26.730000  19.589888  17453800.0"
            ]
          },
          "metadata": {},
          "execution_count": 62
        }
      ]
    },
    {
      "cell_type": "markdown",
      "metadata": {
        "id": "bMu3x1t7kip1"
      },
      "source": [
        "# Separe conjunto X e y - Teste e Treino\n",
        "\n",
        "Sugestão: y = o valor do fechamento do preço diário (close)"
      ]
    },
    {
      "cell_type": "code",
      "metadata": {
        "colab": {
          "base_uri": "https://localhost:8080/",
          "height": 455
        },
        "id": "LtRM-QdAEFd7",
        "outputId": "1b449d19-c8f0-47c9-dd5b-0ae48aec20c3"
      },
      "source": [
        "df"
      ],
      "execution_count": null,
      "outputs": [
        {
          "output_type": "execute_result",
          "data": {
            "text/html": [
              "<div>\n",
              "<style scoped>\n",
              "    .dataframe tbody tr th:only-of-type {\n",
              "        vertical-align: middle;\n",
              "    }\n",
              "\n",
              "    .dataframe tbody tr th {\n",
              "        vertical-align: top;\n",
              "    }\n",
              "\n",
              "    .dataframe thead th {\n",
              "        text-align: right;\n",
              "    }\n",
              "</style>\n",
              "<table border=\"1\" class=\"dataframe\">\n",
              "  <thead>\n",
              "    <tr style=\"text-align: right;\">\n",
              "      <th></th>\n",
              "      <th>Open</th>\n",
              "      <th>High</th>\n",
              "      <th>Low</th>\n",
              "      <th>Close</th>\n",
              "      <th>Adj Close</th>\n",
              "      <th>Volume</th>\n",
              "    </tr>\n",
              "    <tr>\n",
              "      <th>Date</th>\n",
              "      <th></th>\n",
              "      <th></th>\n",
              "      <th></th>\n",
              "      <th></th>\n",
              "      <th></th>\n",
              "      <th></th>\n",
              "    </tr>\n",
              "  </thead>\n",
              "  <tbody>\n",
              "    <tr>\n",
              "      <th>2011-01-03</th>\n",
              "      <td>27.500000</td>\n",
              "      <td>27.580000</td>\n",
              "      <td>26.910000</td>\n",
              "      <td>27.000000</td>\n",
              "      <td>19.787769</td>\n",
              "      <td>22738500.0</td>\n",
              "    </tr>\n",
              "    <tr>\n",
              "      <th>2011-01-04</th>\n",
              "      <td>27.010000</td>\n",
              "      <td>27.059999</td>\n",
              "      <td>26.400000</td>\n",
              "      <td>26.900000</td>\n",
              "      <td>19.714476</td>\n",
              "      <td>30936600.0</td>\n",
              "    </tr>\n",
              "    <tr>\n",
              "      <th>2011-01-05</th>\n",
              "      <td>26.680000</td>\n",
              "      <td>27.350000</td>\n",
              "      <td>26.580000</td>\n",
              "      <td>27.219999</td>\n",
              "      <td>19.949003</td>\n",
              "      <td>24306800.0</td>\n",
              "    </tr>\n",
              "    <tr>\n",
              "      <th>2011-01-06</th>\n",
              "      <td>27.200001</td>\n",
              "      <td>27.459999</td>\n",
              "      <td>27.010000</td>\n",
              "      <td>27.110001</td>\n",
              "      <td>19.868389</td>\n",
              "      <td>24328800.0</td>\n",
              "    </tr>\n",
              "    <tr>\n",
              "      <th>2011-01-07</th>\n",
              "      <td>27.020000</td>\n",
              "      <td>27.180000</td>\n",
              "      <td>26.730000</td>\n",
              "      <td>26.730000</td>\n",
              "      <td>19.589888</td>\n",
              "      <td>17453800.0</td>\n",
              "    </tr>\n",
              "    <tr>\n",
              "      <th>...</th>\n",
              "      <td>...</td>\n",
              "      <td>...</td>\n",
              "      <td>...</td>\n",
              "      <td>...</td>\n",
              "      <td>...</td>\n",
              "      <td>...</td>\n",
              "    </tr>\n",
              "    <tr>\n",
              "      <th>2021-10-25</th>\n",
              "      <td>27.760000</td>\n",
              "      <td>29.309999</td>\n",
              "      <td>27.650000</td>\n",
              "      <td>29.040001</td>\n",
              "      <td>29.040001</td>\n",
              "      <td>135830600.0</td>\n",
              "    </tr>\n",
              "    <tr>\n",
              "      <th>2021-10-26</th>\n",
              "      <td>28.799999</td>\n",
              "      <td>29.230000</td>\n",
              "      <td>28.600000</td>\n",
              "      <td>28.760000</td>\n",
              "      <td>28.760000</td>\n",
              "      <td>57865600.0</td>\n",
              "    </tr>\n",
              "    <tr>\n",
              "      <th>2021-10-27</th>\n",
              "      <td>28.830000</td>\n",
              "      <td>29.059999</td>\n",
              "      <td>28.469999</td>\n",
              "      <td>28.690001</td>\n",
              "      <td>28.690001</td>\n",
              "      <td>57579200.0</td>\n",
              "    </tr>\n",
              "    <tr>\n",
              "      <th>2021-10-28</th>\n",
              "      <td>28.530001</td>\n",
              "      <td>29.250000</td>\n",
              "      <td>28.250000</td>\n",
              "      <td>28.959999</td>\n",
              "      <td>28.959999</td>\n",
              "      <td>89578000.0</td>\n",
              "    </tr>\n",
              "    <tr>\n",
              "      <th>2021-10-29</th>\n",
              "      <td>29.129999</td>\n",
              "      <td>29.190001</td>\n",
              "      <td>26.969999</td>\n",
              "      <td>27.150000</td>\n",
              "      <td>27.150000</td>\n",
              "      <td>157340000.0</td>\n",
              "    </tr>\n",
              "  </tbody>\n",
              "</table>\n",
              "<p>2687 rows × 6 columns</p>\n",
              "</div>"
            ],
            "text/plain": [
              "                 Open       High        Low      Close  Adj Close       Volume\n",
              "Date                                                                          \n",
              "2011-01-03  27.500000  27.580000  26.910000  27.000000  19.787769   22738500.0\n",
              "2011-01-04  27.010000  27.059999  26.400000  26.900000  19.714476   30936600.0\n",
              "2011-01-05  26.680000  27.350000  26.580000  27.219999  19.949003   24306800.0\n",
              "2011-01-06  27.200001  27.459999  27.010000  27.110001  19.868389   24328800.0\n",
              "2011-01-07  27.020000  27.180000  26.730000  26.730000  19.589888   17453800.0\n",
              "...               ...        ...        ...        ...        ...          ...\n",
              "2021-10-25  27.760000  29.309999  27.650000  29.040001  29.040001  135830600.0\n",
              "2021-10-26  28.799999  29.230000  28.600000  28.760000  28.760000   57865600.0\n",
              "2021-10-27  28.830000  29.059999  28.469999  28.690001  28.690001   57579200.0\n",
              "2021-10-28  28.530001  29.250000  28.250000  28.959999  28.959999   89578000.0\n",
              "2021-10-29  29.129999  29.190001  26.969999  27.150000  27.150000  157340000.0\n",
              "\n",
              "[2687 rows x 6 columns]"
            ]
          },
          "metadata": {},
          "execution_count": 64
        }
      ]
    },
    {
      "cell_type": "code",
      "metadata": {
        "colab": {
          "base_uri": "https://localhost:8080/",
          "height": 455
        },
        "id": "wqH18b-eCE1Q",
        "outputId": "236550de-0378-4ca0-85d1-4351e475d76f"
      },
      "source": [
        "df2 = df[df['Close'].notna()]\n",
        "df2"
      ],
      "execution_count": null,
      "outputs": [
        {
          "output_type": "execute_result",
          "data": {
            "text/html": [
              "<div>\n",
              "<style scoped>\n",
              "    .dataframe tbody tr th:only-of-type {\n",
              "        vertical-align: middle;\n",
              "    }\n",
              "\n",
              "    .dataframe tbody tr th {\n",
              "        vertical-align: top;\n",
              "    }\n",
              "\n",
              "    .dataframe thead th {\n",
              "        text-align: right;\n",
              "    }\n",
              "</style>\n",
              "<table border=\"1\" class=\"dataframe\">\n",
              "  <thead>\n",
              "    <tr style=\"text-align: right;\">\n",
              "      <th></th>\n",
              "      <th>Open</th>\n",
              "      <th>High</th>\n",
              "      <th>Low</th>\n",
              "      <th>Close</th>\n",
              "      <th>Adj Close</th>\n",
              "      <th>Volume</th>\n",
              "    </tr>\n",
              "    <tr>\n",
              "      <th>Date</th>\n",
              "      <th></th>\n",
              "      <th></th>\n",
              "      <th></th>\n",
              "      <th></th>\n",
              "      <th></th>\n",
              "      <th></th>\n",
              "    </tr>\n",
              "  </thead>\n",
              "  <tbody>\n",
              "    <tr>\n",
              "      <th>2011-01-03</th>\n",
              "      <td>27.500000</td>\n",
              "      <td>27.580000</td>\n",
              "      <td>26.910000</td>\n",
              "      <td>27.000000</td>\n",
              "      <td>19.787769</td>\n",
              "      <td>22738500.0</td>\n",
              "    </tr>\n",
              "    <tr>\n",
              "      <th>2011-01-04</th>\n",
              "      <td>27.010000</td>\n",
              "      <td>27.059999</td>\n",
              "      <td>26.400000</td>\n",
              "      <td>26.900000</td>\n",
              "      <td>19.714476</td>\n",
              "      <td>30936600.0</td>\n",
              "    </tr>\n",
              "    <tr>\n",
              "      <th>2011-01-05</th>\n",
              "      <td>26.680000</td>\n",
              "      <td>27.350000</td>\n",
              "      <td>26.580000</td>\n",
              "      <td>27.219999</td>\n",
              "      <td>19.949003</td>\n",
              "      <td>24306800.0</td>\n",
              "    </tr>\n",
              "    <tr>\n",
              "      <th>2011-01-06</th>\n",
              "      <td>27.200001</td>\n",
              "      <td>27.459999</td>\n",
              "      <td>27.010000</td>\n",
              "      <td>27.110001</td>\n",
              "      <td>19.868389</td>\n",
              "      <td>24328800.0</td>\n",
              "    </tr>\n",
              "    <tr>\n",
              "      <th>2011-01-07</th>\n",
              "      <td>27.020000</td>\n",
              "      <td>27.180000</td>\n",
              "      <td>26.730000</td>\n",
              "      <td>26.730000</td>\n",
              "      <td>19.589888</td>\n",
              "      <td>17453800.0</td>\n",
              "    </tr>\n",
              "    <tr>\n",
              "      <th>...</th>\n",
              "      <td>...</td>\n",
              "      <td>...</td>\n",
              "      <td>...</td>\n",
              "      <td>...</td>\n",
              "      <td>...</td>\n",
              "      <td>...</td>\n",
              "    </tr>\n",
              "    <tr>\n",
              "      <th>2021-10-25</th>\n",
              "      <td>27.760000</td>\n",
              "      <td>29.309999</td>\n",
              "      <td>27.650000</td>\n",
              "      <td>29.040001</td>\n",
              "      <td>29.040001</td>\n",
              "      <td>135830600.0</td>\n",
              "    </tr>\n",
              "    <tr>\n",
              "      <th>2021-10-26</th>\n",
              "      <td>28.799999</td>\n",
              "      <td>29.230000</td>\n",
              "      <td>28.600000</td>\n",
              "      <td>28.760000</td>\n",
              "      <td>28.760000</td>\n",
              "      <td>57865600.0</td>\n",
              "    </tr>\n",
              "    <tr>\n",
              "      <th>2021-10-27</th>\n",
              "      <td>28.830000</td>\n",
              "      <td>29.059999</td>\n",
              "      <td>28.469999</td>\n",
              "      <td>28.690001</td>\n",
              "      <td>28.690001</td>\n",
              "      <td>57579200.0</td>\n",
              "    </tr>\n",
              "    <tr>\n",
              "      <th>2021-10-28</th>\n",
              "      <td>28.530001</td>\n",
              "      <td>29.250000</td>\n",
              "      <td>28.250000</td>\n",
              "      <td>28.959999</td>\n",
              "      <td>28.959999</td>\n",
              "      <td>89578000.0</td>\n",
              "    </tr>\n",
              "    <tr>\n",
              "      <th>2021-10-29</th>\n",
              "      <td>29.129999</td>\n",
              "      <td>29.190001</td>\n",
              "      <td>26.969999</td>\n",
              "      <td>27.150000</td>\n",
              "      <td>27.150000</td>\n",
              "      <td>157340000.0</td>\n",
              "    </tr>\n",
              "  </tbody>\n",
              "</table>\n",
              "<p>2676 rows × 6 columns</p>\n",
              "</div>"
            ],
            "text/plain": [
              "                 Open       High        Low      Close  Adj Close       Volume\n",
              "Date                                                                          \n",
              "2011-01-03  27.500000  27.580000  26.910000  27.000000  19.787769   22738500.0\n",
              "2011-01-04  27.010000  27.059999  26.400000  26.900000  19.714476   30936600.0\n",
              "2011-01-05  26.680000  27.350000  26.580000  27.219999  19.949003   24306800.0\n",
              "2011-01-06  27.200001  27.459999  27.010000  27.110001  19.868389   24328800.0\n",
              "2011-01-07  27.020000  27.180000  26.730000  26.730000  19.589888   17453800.0\n",
              "...               ...        ...        ...        ...        ...          ...\n",
              "2021-10-25  27.760000  29.309999  27.650000  29.040001  29.040001  135830600.0\n",
              "2021-10-26  28.799999  29.230000  28.600000  28.760000  28.760000   57865600.0\n",
              "2021-10-27  28.830000  29.059999  28.469999  28.690001  28.690001   57579200.0\n",
              "2021-10-28  28.530001  29.250000  28.250000  28.959999  28.959999   89578000.0\n",
              "2021-10-29  29.129999  29.190001  26.969999  27.150000  27.150000  157340000.0\n",
              "\n",
              "[2676 rows x 6 columns]"
            ]
          },
          "metadata": {},
          "execution_count": 63
        }
      ]
    },
    {
      "cell_type": "code",
      "metadata": {
        "id": "7n3Uaxg2NnBx",
        "colab": {
          "base_uri": "https://localhost:8080/"
        },
        "outputId": "7a07f065-b520-4124-aa59-d849ea8a7b5e"
      },
      "source": [
        "X = df2.index.values\n",
        "y = df2.loc[:, 'Close']\n",
        "\n",
        "print(X,y)"
      ],
      "execution_count": null,
      "outputs": [
        {
          "output_type": "stream",
          "name": "stdout",
          "text": [
            "['2011-01-03T00:00:00.000000000' '2011-01-04T00:00:00.000000000'\n",
            " '2011-01-05T00:00:00.000000000' ... '2021-10-27T00:00:00.000000000'\n",
            " '2021-10-28T00:00:00.000000000' '2021-10-29T00:00:00.000000000'] Date\n",
            "2011-01-03    27.000000\n",
            "2011-01-04    26.900000\n",
            "2011-01-05    27.219999\n",
            "2011-01-06    27.110001\n",
            "2011-01-07    26.730000\n",
            "                ...    \n",
            "2021-10-25    29.040001\n",
            "2021-10-26    28.760000\n",
            "2021-10-27    28.690001\n",
            "2021-10-28    28.959999\n",
            "2021-10-29    27.150000\n",
            "Name: Close, Length: 2676, dtype: float64\n"
          ]
        }
      ]
    },
    {
      "cell_type": "code",
      "metadata": {
        "colab": {
          "base_uri": "https://localhost:8080/",
          "height": 283
        },
        "id": "SOal0GM06SPn",
        "outputId": "7f8dd336-e0fa-48fa-f371-e64881017e66"
      },
      "source": [
        "plt.plot(y)"
      ],
      "execution_count": null,
      "outputs": [
        {
          "output_type": "execute_result",
          "data": {
            "text/plain": [
              "[<matplotlib.lines.Line2D at 0x7f3a887ef750>]"
            ]
          },
          "metadata": {},
          "execution_count": 66
        },
        {
          "output_type": "display_data",
          "data": {
            "image/png": "[encoded data removed]",
            "text/plain": [
              "<Figure size 432x288 with 1 Axes>"
            ]
          },
          "metadata": {
            "needs_background": "light"
          }
        }
      ]
    },
    {
      "cell_type": "code",
      "metadata": {
        "id": "fsap30YBkoWQ",
        "colab": {
          "base_uri": "https://localhost:8080/"
        },
        "outputId": "987a2448-629b-4485-94c9-e1948e5ae7ee"
      },
      "source": [
        "\n",
        "from sklearn.model_selection import train_test_split\n",
        "# https://scikit-learn.org/stable/modules/generated/sklearn.model_selection.train_test_split.html\n",
        "# X_train, X_test, y_train, y_test = train_test_split(X, y, test_size=0.33, random_state=0)\n",
        "X_train = X[:int(len(X)*(70/100))]\n",
        "y_train = y[:int(len(y)*(70/100))]\n",
        "print('Train: ',len(X_train))\n",
        "\n"
      ],
      "execution_count": null,
      "outputs": [
        {
          "output_type": "stream",
          "name": "stdout",
          "text": [
            "Train:  1873\n"
          ]
        }
      ]
    },
    {
      "cell_type": "code",
      "metadata": {
        "colab": {
          "base_uri": "https://localhost:8080/"
        },
        "id": "Ce9tVFe99O2H",
        "outputId": "f96cac4a-dca9-458f-ba81-34685e3eaed9"
      },
      "source": [
        "X_train = X_train.reshape(-1,1)"
      ],
      "execution_count": null,
      "outputs": [
        {
          "output_type": "execute_result",
          "data": {
            "text/plain": [
              "Date\n",
              "2011-01-03    27.000000\n",
              "2011-01-04    26.900000\n",
              "2011-01-05    27.219999\n",
              "2011-01-06    27.110001\n",
              "2011-01-07    26.730000\n",
              "                ...    \n",
              "2018-07-11    17.410000\n",
              "2018-07-12    17.950001\n",
              "2018-07-13    18.110001\n",
              "2018-07-16    17.879999\n",
              "2018-07-17    18.290001\n",
              "Name: Close, Length: 1873, dtype: float64"
            ]
          },
          "metadata": {},
          "execution_count": 93
        }
      ]
    },
    {
      "cell_type": "code",
      "metadata": {
        "colab": {
          "base_uri": "https://localhost:8080/"
        },
        "id": "HElOsdNJ_1Cy",
        "outputId": "e093eadf-994f-4485-e8dc-c6041e3dc554"
      },
      "source": [
        "y_train\n"
      ],
      "execution_count": null,
      "outputs": [
        {
          "output_type": "execute_result",
          "data": {
            "text/plain": [
              "Date\n",
              "2011-01-03     3.557595\n",
              "2011-01-04     3.583006\n",
              "2011-01-05     3.642300\n",
              "2011-01-06     3.650770\n",
              "2011-01-07     3.735474\n",
              "                ...    \n",
              "2018-07-19    21.980858\n",
              "2018-07-20    22.226500\n",
              "2018-07-23    22.692379\n",
              "2018-07-24    23.200600\n",
              "2018-07-25          NaN\n",
              "Name: Adj Close, Length: 1880, dtype: float64"
            ]
          },
          "metadata": {},
          "execution_count": 50
        }
      ]
    },
    {
      "cell_type": "markdown",
      "metadata": {
        "id": "X7oV95KvkqFn"
      },
      "source": [
        "# Previsões com Modelos Não Paramétricos"
      ]
    },
    {
      "cell_type": "code",
      "metadata": {
        "id": "k04_wXImo4EC",
        "colab": {
          "base_uri": "https://localhost:8080/"
        },
        "outputId": "f5a7babf-a786-4748-f233-2f3a90783860"
      },
      "source": [
        "\n",
        "#Material\n",
        "\n",
        "# https://scikit-learn.org/stable/modules/generated/sklearn.svm.SVR.html\n",
        "\n",
        "#  https://scikit-learn.org/stable/modules/generated/sklearn.ensemble.RandomForestRegressor.html\n",
        "forest_model = RandomForestRegressor()\n",
        "forest_model.fit(X_train, y_train.values)\n",
        "#melb_preds = forest_model.predict(val_X)"
      ],
      "execution_count": null,
      "outputs": [
        {
          "output_type": "execute_result",
          "data": {
            "text/plain": [
              "RandomForestRegressor()"
            ]
          },
          "metadata": {},
          "execution_count": 110
        }
      ]
    },
    {
      "cell_type": "code",
      "metadata": {
        "colab": {
          "base_uri": "https://localhost:8080/"
        },
        "id": "bj669CYfEj-u",
        "outputId": "3f8f5e85-f97a-4d93-ae3b-19ee94382f4b"
      },
      "source": [
        "pred = X_train[0]\n",
        "\n",
        "print(forest_model.predict([pred]))"
      ],
      "execution_count": null,
      "outputs": [
        {
          "output_type": "stream",
          "name": "stdout",
          "text": [
            "[26.99129998]\n"
          ]
        }
      ]
    },
    {
      "cell_type": "code",
      "metadata": {
        "colab": {
          "base_uri": "https://localhost:8080/"
        },
        "id": "cnqRvIc4FARs",
        "outputId": "214eb08f-ecb1-4f93-9499-909134f07e7a"
      },
      "source": [
        "X_test = X[int(len(X)*(70/100)):]\n",
        "X_test = X_test.reshape(-1,1)\n",
        "\n",
        "y_test = y[int(len(X)*(70/100)):]\n",
        "y_test"
      ],
      "execution_count": null,
      "outputs": [
        {
          "output_type": "execute_result",
          "data": {
            "text/plain": [
              "Date\n",
              "2018-07-18    18.049999\n",
              "2018-07-19    18.400000\n",
              "2018-07-20    19.290001\n",
              "2018-07-23    19.260000\n",
              "2018-07-24    19.660000\n",
              "                ...    \n",
              "2021-10-25    29.040001\n",
              "2021-10-26    28.760000\n",
              "2021-10-27    28.690001\n",
              "2021-10-28    28.959999\n",
              "2021-10-29    27.150000\n",
              "Name: Close, Length: 803, dtype: float64"
            ]
          },
          "metadata": {},
          "execution_count": 103
        }
      ]
    },
    {
      "cell_type": "code",
      "metadata": {
        "id": "43OL3AhhFzbZ"
      },
      "source": [
        "predicoes = forest_model.predict(X_test)"
      ],
      "execution_count": null,
      "outputs": []
    },
    {
      "cell_type": "code",
      "metadata": {
        "colab": {
          "base_uri": "https://localhost:8080/",
          "height": 283
        },
        "id": "jEj0VAZKEc-B",
        "outputId": "7f8fb476-9bfc-4685-9e71-8af64442a96c"
      },
      "source": [
        "plt.plot(y_train, label='Test')\n",
        "plt.plot(y_test)\n",
        "plt.plot(pd.DataFrame(data= predicoes,index=X_test))\n"
      ],
      "execution_count": null,
      "outputs": [
        {
          "output_type": "execute_result",
          "data": {
            "text/plain": [
              "[<matplotlib.lines.Line2D at 0x7f3a872adc10>]"
            ]
          },
          "metadata": {},
          "execution_count": 114
        },
        {
          "output_type": "display_data",
          "data": {
            "image/png": "[encoded data removed]",
            "text/plain": [
              "<Figure size 432x288 with 1 Axes>"
            ]
          },
          "metadata": {
            "needs_background": "light"
          }
        }
      ]
    },
    {
      "cell_type": "markdown",
      "metadata": {
        "id": "s9Sp2Q2YlKVx"
      },
      "source": [
        "# Cross Validation for Time-series\n",
        "\n",
        "Desafio: Opcional\n",
        "\n",
        "\n"
      ]
    },
    {
      "cell_type": "code",
      "metadata": {
        "id": "6I-xNuMulUfg"
      },
      "source": [
        "print(df.shape)\n",
        "\n",
        "step = 1\n",
        "fold1 = int(df.shape[0]*0.3) #1º passo: começa com 30% dos dados treinados.\n",
        "\n",
        "for x in range(fold1, df.shape[0]):\n",
        "  \n",
        "  ini_treino = 0\n",
        "  fim_treino = x\n",
        "\n",
        "  print(\"Passo: \", x - fold1 + 1)\n",
        "  #dados para treinamento\n",
        "  print(df.iloc[ini_treino: fim_treino, ].values)\n",
        "\n",
        "  #dados para teste\n",
        "  print(df.iloc[fim_treino:fim_treino + step, ].values)\n",
        "\n",
        "  #Inseri apenas para não mostrar todas etapas de previsão\n",
        "  if x == fold1 + 2:\n",
        "    break\n",
        "\n",
        "  #model.fit\n",
        "\n",
        "  #model.predict\n",
        "\n",
        "  # MAPE \n",
        "\n"
      ],
      "execution_count": null,
      "outputs": []
    },
    {
      "cell_type": "code",
      "metadata": {
        "id": "GcgpHPfDk4m4"
      },
      "source": [
        ""
      ],
      "execution_count": null,
      "outputs": []
    }
  ]
}